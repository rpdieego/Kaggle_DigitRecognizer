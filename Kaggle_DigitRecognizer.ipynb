{
  "nbformat": 4,
  "nbformat_minor": 0,
  "metadata": {
    "colab": {
      "name": "Kaggle_DigitRecognizer.ipynb",
      "provenance": [],
      "collapsed_sections": [],
      "authorship_tag": "ABX9TyMw+0hj3Vq78KCnLjWm68Sn",
      "include_colab_link": true
    },
    "kernelspec": {
      "name": "python3",
      "display_name": "Python 3"
    }
  },
  "cells": [
    {
      "cell_type": "markdown",
      "metadata": {
        "id": "view-in-github",
        "colab_type": "text"
      },
      "source": [
        "<a href=\"https://colab.research.google.com/github/rpdieego/Kaggle_DigitRecognizer/blob/master/Kaggle_DigitRecognizer.ipynb\" target=\"_parent\"><img src=\"https://colab.research.google.com/assets/colab-badge.svg\" alt=\"Open In Colab\"/></a>"
      ]
    },
    {
      "cell_type": "markdown",
      "metadata": {
        "id": "t4K_vuSwCy_w",
        "colab_type": "text"
      },
      "source": [
        "# Kaggle Competition - Digit Recognizer\n",
        "\n",
        "[Click here to check the related page on Kaggle for this competition](https://www.kaggle.com/c/digit-recognizer)\n",
        "\n"
      ]
    },
    {
      "cell_type": "markdown",
      "metadata": {
        "id": "-74fYhwTDGrn",
        "colab_type": "text"
      },
      "source": [
        "## Step 1 - Defining the Problem\n",
        "\n",
        "MNIST (\"Modified National Institute of Standards and Technology\") is the de facto “hello world” dataset of computer vision. Since its release in 1999, this classic dataset of handwritten images has served as the basis for benchmarking classification algorithms. As new machine learning techniques emerge, MNIST remains a reliable resource for researchers and learners alike.\n",
        "\n",
        "**Goal**\n",
        "\n",
        "In this competition, our goal is to correctly identify digits from a dataset of tens of thousands of handwritten images.\n",
        "\n",
        "**Practice Skills**\n",
        "\n",
        "*   Computer vision fundamentals including simple neural networks\n",
        "\n",
        "*   Classification methods such as SVM and K-nearest neighbors\n",
        "\n",
        "**Metric**\n",
        "\n",
        "This competition is evaluated on the categorization accuracy of our predictions (the percentage of images we get correct)."
      ]
    },
    {
      "cell_type": "markdown",
      "metadata": {
        "id": "o2ZdQQRQEBUT",
        "colab_type": "text"
      },
      "source": [
        "# Step 2 - Obtaining the Data\n",
        "\n",
        "The data files train.csv and test.csv contain gray-scale images of hand-drawn digits, from zero through nine.\n",
        "\n",
        "Each image is 28 pixels in height and 28 pixels in width, for a total of 784 pixels in total. Each pixel has a single pixel-value associated with it, indicating the lightness or darkness of that pixel, with higher numbers meaning darker. This pixel-value is an integer between 0 and 255, inclusive.\n",
        "\n",
        "The training data set, (train.csv), has 785 columns. The first column, called \"label\", is the digit that was drawn by the user. The rest of the columns contain the pixel-values of the associated image.\n",
        "\n",
        "Each pixel column in the training set has a name like pixelx, where x is an integer between 0 and 783, inclusive. To locate this pixel on the image, suppose that we have decomposed x as x = i * 28 + j, where i and j are integers between 0 and 27, inclusive. Then pixelx is located on row i and column j of a 28 x 28 matrix, (indexing by zero).\n",
        "\n",
        "The test data set, (test.csv), is the same as the training set, except that it does not contain the \"label\" column.\n",
        "\n",
        "![alt text](https://github.com/rpdieego/Kaggle_DigitRecognizer/blob/master/image_data_01.JPG?raw=true)\n",
        "\n"
      ]
    },
    {
      "cell_type": "code",
      "metadata": {
        "id": "kEKeiqAzMcAa",
        "colab_type": "code",
        "colab": {}
      },
      "source": [
        "# import relevant packages\n",
        "\n",
        "import numpy as np\n",
        "import pandas as pd\n",
        "import matplotlib.pyplot as plt\n",
        "import matplotlib.image as mpimg\n",
        "import seaborn as sns\n",
        "import matplotlib.cm as cm  \n",
        "from sklearn.model_selection import train_test_split\n",
        "from sklearn.metrics import confusion_matrix\n",
        "import itertools\n",
        "\n",
        "from keras.models import Sequential\n",
        "from keras.layers import Dense, Dropout, Activation, Flatten, Conv2D, MaxPool2D\n",
        "from keras.utils import np_utils\n",
        "\n",
        "\n"
      ],
      "execution_count": 0,
      "outputs": []
    },
    {
      "cell_type": "code",
      "metadata": {
        "id": "uHGqwepTDFqU",
        "colab_type": "code",
        "colab": {}
      },
      "source": [
        "# Code to read csv file into Colaboratory:\n",
        "!pip install -U -q PyDrive\n",
        "from pydrive.auth import GoogleAuth\n",
        "from pydrive.drive import GoogleDrive\n",
        "from google.colab import auth\n",
        "from oauth2client.client import GoogleCredentials\n",
        "# Authenticate and create the PyDrive client.\n",
        "auth.authenticate_user()\n",
        "gauth = GoogleAuth()\n",
        "gauth.credentials = GoogleCredentials.get_application_default()\n",
        "drive = GoogleDrive(gauth)"
      ],
      "execution_count": 0,
      "outputs": []
    },
    {
      "cell_type": "code",
      "metadata": {
        "id": "wYj7aFrhLSLp",
        "colab_type": "code",
        "outputId": "d4fca0fd-0ba8-496b-e8d0-773562dc2414",
        "colab": {
          "base_uri": "https://localhost:8080/",
          "height": 34
        }
      },
      "source": [
        "# Import train.csv from Google Drive\n",
        "\n",
        "link_train = 'https://drive.google.com/open?id=1rL_7BlY4JnUQhKFn38LzLy4thyUhaevG'\n",
        "\n",
        "fluff, id = link_train.split('=')\n",
        "print (id) # Verify that we have everything after '='\n",
        "\n",
        "downloaded = drive.CreateFile({'id':id}) \n",
        "downloaded.GetContentFile('train.csv')  \n",
        "train_df = pd.read_csv('train.csv')"
      ],
      "execution_count": 0,
      "outputs": [
        {
          "output_type": "stream",
          "text": [
            "1rL_7BlY4JnUQhKFn38LzLy4thyUhaevG\n"
          ],
          "name": "stdout"
        }
      ]
    },
    {
      "cell_type": "code",
      "metadata": {
        "id": "AlMOL3sVL-p7",
        "colab_type": "code",
        "outputId": "7a40769c-46ce-4987-fd97-b558e3395b54",
        "colab": {
          "base_uri": "https://localhost:8080/",
          "height": 34
        }
      },
      "source": [
        "# Import test.csv from Google Drive\n",
        "\n",
        "link_test = 'https://drive.google.com/open?id=1x94HpdwCZwqvlwo9i6YO0a0c83yMbKJG'\n",
        "\n",
        "fluff, id = link_test.split('=')\n",
        "print (id) # Verify that we have everything after '='\n",
        "\n",
        "downloaded = drive.CreateFile({'id':id}) \n",
        "downloaded.GetContentFile('test.csv')  \n",
        "test_df = pd.read_csv('test.csv')"
      ],
      "execution_count": 0,
      "outputs": [
        {
          "output_type": "stream",
          "text": [
            "1x94HpdwCZwqvlwo9i6YO0a0c83yMbKJG\n"
          ],
          "name": "stdout"
        }
      ]
    },
    {
      "cell_type": "code",
      "metadata": {
        "id": "8tUuzv-IM-iJ",
        "colab_type": "code",
        "outputId": "34ba395e-f13b-4b9c-e94c-e74e912c7113",
        "colab": {
          "base_uri": "https://localhost:8080/",
          "height": 153
        }
      },
      "source": [
        "# Checking the dimensions of the Datasets\n",
        "\n",
        "print(\"Train Dataset \\n Variables:\\t{}\\n Inputs:\\t{}\".format(train_df.shape[1], train_df.shape[0]))\n",
        "print(\"\\n\")\n",
        "print(\"Test Dataset \\n Variables:\\t{}\\n Inputs:\\t{}\".format(test_df.shape[1], test_df.shape[0]))"
      ],
      "execution_count": 0,
      "outputs": [
        {
          "output_type": "stream",
          "text": [
            "Train Dataset \n",
            " Variables:\t785\n",
            " Inputs:\t42000\n",
            "\n",
            "\n",
            "Test Dataset \n",
            " Variables:\t784\n",
            " Inputs:\t28000\n"
          ],
          "name": "stdout"
        }
      ]
    },
    {
      "cell_type": "code",
      "metadata": {
        "id": "cy8enAI7NHEy",
        "colab_type": "code",
        "outputId": "54cb822f-62b9-45f9-bda5-61b956756011",
        "colab": {
          "base_uri": "https://localhost:8080/",
          "height": 34
        }
      },
      "source": [
        "# Importing TensorFlow\n",
        "\n",
        "from __future__ import absolute_import, division, print_function, unicode_literals\n",
        "try:\n",
        "  # %tensorflow_version only exists in Colab.\n",
        "  %tensorflow_version 2.x\n",
        "except Exception:\n",
        "  pass\n",
        "import tensorflow as tf\n"
      ],
      "execution_count": 0,
      "outputs": [
        {
          "output_type": "stream",
          "text": [
            "TensorFlow is already loaded. Please restart the runtime to change versions.\n"
          ],
          "name": "stdout"
        }
      ]
    },
    {
      "cell_type": "markdown",
      "metadata": {
        "id": "AgfMYZJfQ5pb",
        "colab_type": "text"
      },
      "source": [
        "# Step 3 - Checking and Preprocessing the Data"
      ]
    },
    {
      "cell_type": "markdown",
      "metadata": {
        "id": "4VLgLyXpRzuv",
        "colab_type": "text"
      },
      "source": [
        "**Missing Values**\n",
        "\n",
        "Lets check if there are any missing values in both of the dataframes (a missing value would mean that one of the digit images is somehow corrupted).\n"
      ]
    },
    {
      "cell_type": "code",
      "metadata": {
        "id": "WD450fpyQ9Wq",
        "colab_type": "code",
        "outputId": "54e3759b-8620-4a6f-f086-10f9e924992d",
        "colab": {
          "base_uri": "https://localhost:8080/",
          "height": 102
        }
      },
      "source": [
        "# Checking missing values on the train dataframe\n",
        "\n",
        "train_df.isnull().any().describe()"
      ],
      "execution_count": 0,
      "outputs": [
        {
          "output_type": "execute_result",
          "data": {
            "text/plain": [
              "count       785\n",
              "unique        1\n",
              "top       False\n",
              "freq        785\n",
              "dtype: object"
            ]
          },
          "metadata": {
            "tags": []
          },
          "execution_count": 7
        }
      ]
    },
    {
      "cell_type": "code",
      "metadata": {
        "id": "cDNN1GDoSRRu",
        "colab_type": "code",
        "outputId": "77a22bca-87f2-441c-cd3f-53f23aa6830c",
        "colab": {
          "base_uri": "https://localhost:8080/",
          "height": 102
        }
      },
      "source": [
        "# Checking missing values on the test dataframe\n",
        "\n",
        "test_df.isnull().any().describe()"
      ],
      "execution_count": 0,
      "outputs": [
        {
          "output_type": "execute_result",
          "data": {
            "text/plain": [
              "count       784\n",
              "unique        1\n",
              "top       False\n",
              "freq        784\n",
              "dtype: object"
            ]
          },
          "metadata": {
            "tags": []
          },
          "execution_count": 8
        }
      ]
    },
    {
      "cell_type": "markdown",
      "metadata": {
        "id": "KNB2jTOnPWz6",
        "colab_type": "text"
      },
      "source": [
        "**Plotting some images to check the data**\n",
        "\n",
        "Let`s plot some of the images of our training dataset to visually check the data"
      ]
    },
    {
      "cell_type": "code",
      "metadata": {
        "id": "NUL1vwY0lL1A",
        "colab_type": "code",
        "outputId": "07882cc7-bc8c-4c15-c62f-d38761c49e31",
        "colab": {
          "base_uri": "https://localhost:8080/",
          "height": 540
        }
      },
      "source": [
        "y_train_pd = train_df.iloc[:,0].values\n",
        "X_train_pd = train_df.iloc[:,1:].values.reshape(-1,28,28,1)\n",
        "\n",
        "\n",
        "#plot some images and labels\n",
        "\n",
        "plt.figure(figsize=(15,9))\n",
        "for i in range(50):\n",
        "    plt.subplot(5,10,1+i)\n",
        "    plt.title(y_train_pd[i])\n",
        "    plt.imshow(X_train_pd[i].reshape(28,28), cmap=cm.binary)"
      ],
      "execution_count": 0,
      "outputs": [
        {
          "output_type": "display_data",
          "data": {
            "image/png": "[encoded data removed]",
            "text/plain": [
              "<Figure size 1080x648 with 50 Axes>"
            ]
          },
          "metadata": {
            "tags": []
          }
        }
      ]
    },
    {
      "cell_type": "markdown",
      "metadata": {
        "id": "v_GSiNs7d1Al",
        "colab_type": "text"
      },
      "source": [
        "**Converting the Output Labels**\n",
        "\n",
        "For our neural network model, it`s necessary to convert the labels from scalars to one-hot vectors.\n",
        "\n",
        "It means:\n",
        "\n",
        "*   0 -> [1 0 0 0 0 0 0 0 0 0]\n",
        "*   1 -> [0 1 0 0 0 0 0 0 0 0]\n",
        "*   2 -> [0 0 1 0 0 0 0 0 0 0]\n",
        "*   3 -> [0 0 0 1 0 0 0 0 0 0]\n",
        "*   4 -> [0 0 0 0 1 0 0 0 0 0]\n",
        "*   5 -> [0 0 0 0 0 1 0 0 0 0]\n",
        "*   6 -> [0 0 0 0 0 0 1 0 0 0]\n",
        "*   7 -> [0 0 0 0 0 0 0 1 0 0]\n",
        "*   8 -> [0 0 0 0 0 0 0 0 1 0]\n",
        "*   9 -> [0 0 0 0 0 0 0 0 0 1]\n",
        "\n",
        "\n"
      ]
    },
    {
      "cell_type": "code",
      "metadata": {
        "id": "lWwhJHa2fl2u",
        "colab_type": "code",
        "colab": {}
      },
      "source": [
        "def dense_to_one_hot(labels_dense, num_classes):\n",
        "    num_labels = labels_dense.shape[0]\n",
        "    index_offset = np.arange(num_labels) * num_classes\n",
        "    labels_one_hot = np.zeros((num_labels, num_classes))\n",
        "    labels_one_hot.flat[index_offset + labels_dense.ravel()] = 1\n",
        "    return labels_one_hot\n",
        "\n",
        "\n",
        "# one-hot encoded labels\n",
        "y_train = dense_to_one_hot(train_df.iloc[:,0].values, 10).astype(np.uint8)\n"
      ],
      "execution_count": 0,
      "outputs": []
    },
    {
      "cell_type": "code",
      "metadata": {
        "id": "grpAxL8Nb0O5",
        "colab_type": "code",
        "colab": {}
      },
      "source": [
        "# Saving the images into the variable X_train\n",
        "\n",
        "X_train = train_df.drop(labels = [\"label\"], axis = 1)\n",
        "\n",
        "X_test = test_df"
      ],
      "execution_count": 0,
      "outputs": []
    },
    {
      "cell_type": "markdown",
      "metadata": {
        "id": "dYoFo5c0YR8N",
        "colab_type": "text"
      },
      "source": [
        "**Checking if the dataset is imbalanced**\n",
        "\n",
        "As imbalanced datasets are a great problem for Machine Learning algorithims in general, we shall check how the targets are distributed:"
      ]
    },
    {
      "cell_type": "code",
      "metadata": {
        "id": "g-BA3TlkY9yR",
        "colab_type": "code",
        "outputId": "63ec2b46-6934-4f03-cc87-d6c80c5223f1",
        "colab": {
          "base_uri": "https://localhost:8080/",
          "height": 513
        }
      },
      "source": [
        "# Labels distribution in the train dataset\n",
        "plt.figure(figsize=(20,8));plt.title('Distribution on labels in the train dataset')\n",
        "labels_plot = sns.countplot(train_df['label'], palette=\"GnBu_d\")"
      ],
      "execution_count": 0,
      "outputs": [
        {
          "output_type": "display_data",
          "data": {
            "image/png": "[encoded data removed]",
            "text/plain": [
              "<Figure size 1440x576 with 1 Axes>"
            ]
          },
          "metadata": {
            "tags": []
          }
        }
      ]
    },
    {
      "cell_type": "markdown",
      "metadata": {
        "id": "wakpdAUWa9IZ",
        "colab_type": "text"
      },
      "source": [
        "There are a similar number of ocorrences for the 10 digits in the train dataset, so lack of balance shall not be a problem to our model."
      ]
    },
    {
      "cell_type": "markdown",
      "metadata": {
        "id": "k8iR35zrchx_",
        "colab_type": "text"
      },
      "source": [
        "**Normalization**\n",
        "\n",
        "Normally, we would like to scale our data in some way to make the result more numerically stable. In this case, we will simply prefer to have inputs between 0 and 1.\n",
        "\n",
        "Since the possible values for the inputs are 0 to 255 (256 different shades of grey), we shall divide each element by 255, getting the desirable result for our normalization : all elements are in the range between 0 and 1:\n"
      ]
    },
    {
      "cell_type": "code",
      "metadata": {
        "id": "GMSXG2DUZq4k",
        "colab_type": "code",
        "colab": {}
      },
      "source": [
        "# Normalize the Data\n",
        "\n",
        "X_train = X_train / 255.0\n",
        "\n",
        "X_test = X_test / 255.0\n"
      ],
      "execution_count": 0,
      "outputs": []
    },
    {
      "cell_type": "markdown",
      "metadata": {
        "id": "77QxGnMLdMVk",
        "colab_type": "text"
      },
      "source": [
        "**Reshape the images**\n",
        "\n",
        "Let`s reshape the images stored into 1D vectors of 784 values to 28 x 28 x 1 matrices:"
      ]
    },
    {
      "cell_type": "code",
      "metadata": {
        "id": "f-eMNkSmd0A7",
        "colab_type": "code",
        "colab": {}
      },
      "source": [
        "# Reshape X_train data into matrices ( 28 x 28 x 1)\n",
        "X_train = X_train.values.reshape(-1,28,28,1)\n",
        "\n",
        "# Reshape X_test data into matrices ( 28 x 28 x 1)\n",
        "X_test = X_test.values.reshape(-1,28,28,1)"
      ],
      "execution_count": 0,
      "outputs": []
    },
    {
      "cell_type": "markdown",
      "metadata": {
        "id": "ZD8prof3KFvw",
        "colab_type": "text"
      },
      "source": [
        "**Validation Dataset**\n",
        "\n",
        "As Kaggle only provided us training and test datasets, we shall need to create the validation dataset on our own:\n",
        "\n",
        "[Validation Datasets](https://en.wikipedia.org/wiki/Training,_validation,_and_test_sets)\n",
        "\n",
        "I`m going to use 10% of the samples of our training dataset to create the validation dataset."
      ]
    },
    {
      "cell_type": "code",
      "metadata": {
        "id": "bYatbR3vjMdU",
        "colab_type": "code",
        "colab": {}
      },
      "source": [
        "# Spliting the training and validation datasets\n",
        "\n",
        "np.random.seed(2)\n",
        "X_train, X_validation, y_train, y_validation = train_test_split(X_train,y_train, test_size = 0.1, random_state=2)"
      ],
      "execution_count": 0,
      "outputs": []
    },
    {
      "cell_type": "markdown",
      "metadata": {
        "id": "WA7KH_sEMbj6",
        "colab_type": "text"
      },
      "source": [
        "**Defining the Batch Size**\n",
        "\n",
        "I`m going to use mini batch gradient descent to train my model, as it's one of the most efficient ways to perform deep learning, since the tradeoff of accuracy and speed is optimal.\n",
        "\n",
        "[Introduction to mini batch gradient descent](https://machinelearningmastery.com/gentle-introduction-mini-batch-gradient-descent-configure-batch-size/)\n",
        "\n",
        "According to some tests and studies (see link above), a good default for batch size might be 32, so let`s follow with this:"
      ]
    },
    {
      "cell_type": "code",
      "metadata": {
        "id": "7hqzHKrpKaaA",
        "colab_type": "code",
        "colab": {}
      },
      "source": [
        "# Defining the batch size\n",
        "batch_size_num = 32"
      ],
      "execution_count": 0,
      "outputs": []
    },
    {
      "cell_type": "markdown",
      "metadata": {
        "id": "_Td8LKxJW-95",
        "colab_type": "text"
      },
      "source": [
        "# **Step 4 - Building the Convolutional Neural Network (CNN) with Keras**\n",
        "\n",
        "**Outline the Model**\n",
        "\n",
        "I`ve chosen the following structure to our convolutional neural network:\n",
        "\n",
        "*Feature Extraction*\n",
        "*   Convolutional Layer 1 - 32 feature maps using a 5x5 filter and stride 1\n",
        "*   Subsampling Layer 1 - Max pooling using 2x2 filter and stride 2\n",
        "*   Convolutional Layer 2 - 64 feature maps using 5x5 filter and stride 1\n",
        "*   Subsampling Layer 2 - max pooling using 2x2 filter and stride 2\n",
        "*   Dropout Layer - 25%\n",
        "\n",
        "*Classification*\n",
        "*   Flatten Layer\n",
        "*   Dense Layer 1 -> ReLu : [.,64]\n",
        "*   Dense Layer 2 -> ReLu : [.,64]\n",
        "*   Dropout Layer - 25%\n",
        "*   Output Layer -> Softmax : [.,10] - As we have 10 possible digits on the images\n",
        "\n",
        "\n",
        "\n",
        "\n",
        "\n"
      ]
    },
    {
      "cell_type": "code",
      "metadata": {
        "id": "UCMby2fohtdC",
        "colab_type": "code",
        "colab": {}
      },
      "source": [
        "# Hyperparameters\n",
        "\n",
        "# Convolutional Layer 1\n",
        "conv_layer_1_filters = 32\n",
        "\n",
        "# Convolutional Layer 2\n",
        "conv_layer_2_filters = 64\n",
        "\n",
        "# Dropout Rate\n",
        "dropout_rate = 0.25\n",
        "\n",
        "#Dense Layer\n",
        "dense_layer_size = 64\n",
        "\n",
        "#Output Layer\n",
        "output_size = 10"
      ],
      "execution_count": 0,
      "outputs": []
    },
    {
      "cell_type": "code",
      "metadata": {
        "id": "XC_JqjtN2G3Z",
        "colab_type": "code",
        "outputId": "c130c922-b93e-4578-d3a5-8832022df95f",
        "colab": {
          "base_uri": "https://localhost:8080/",
          "height": 258
        }
      },
      "source": [
        "# creating the model object\n",
        "\n",
        "model = Sequential()\n",
        "\n",
        "# Convolutional Layer 1\n",
        "model.add(Conv2D(\n",
        "                 filters = conv_layer_1_filters,\n",
        "                 kernel_size = (5,5),\n",
        "                 padding = 'Same',\n",
        "                 activation = 'relu',\n",
        "                 input_shape = (28,28,1)\n",
        "                 ))\n",
        "\n",
        "# Subsampling Layer 1\n",
        "model.add(MaxPool2D(pool_size=(2,2)))\n",
        "\n",
        "# Convolutional Layer 2\n",
        "model.add(Conv2D(\n",
        "                 filters = conv_layer_2_filters,\n",
        "                 kernel_size = (5,5),\n",
        "                 padding = 'Same',\n",
        "                 activation = 'relu'\n",
        "                 ))\n",
        "\n",
        "# Subsampling Layer 2\n",
        "model.add(MaxPool2D(pool_size=(2,2)))\n",
        "\n",
        "# Dropout Layer 1\n",
        "model.add(Dropout(dropout_rate))\n",
        "\n",
        "# Flatten Layer\n",
        "model.add(Flatten())\n",
        "\n",
        "# Dense Layer 1\n",
        "model.add(Dense(\n",
        "                 dense_layer_size,\n",
        "                 activation = 'relu'\n",
        "                 ))\n",
        "\n",
        "# Dense Layer 2\n",
        "model.add(Dense(\n",
        "                 dense_layer_size,\n",
        "                 activation = 'relu'\n",
        "                 ))\n",
        "\n",
        "# Dropout Layer 2\n",
        "model.add(Dropout(dropout_rate))\n",
        "\n",
        "# Output Layer\n",
        "model.add(Dense(\n",
        "                output_size,\n",
        "                activation = 'softmax'\n",
        "               ))"
      ],
      "execution_count": 0,
      "outputs": [
        {
          "output_type": "stream",
          "text": [
            "WARNING:tensorflow:From /usr/local/lib/python3.6/dist-packages/keras/backend/tensorflow_backend.py:66: The name tf.get_default_graph is deprecated. Please use tf.compat.v1.get_default_graph instead.\n",
            "\n",
            "WARNING:tensorflow:From /usr/local/lib/python3.6/dist-packages/keras/backend/tensorflow_backend.py:541: The name tf.placeholder is deprecated. Please use tf.compat.v1.placeholder instead.\n",
            "\n",
            "WARNING:tensorflow:From /usr/local/lib/python3.6/dist-packages/keras/backend/tensorflow_backend.py:4432: The name tf.random_uniform is deprecated. Please use tf.random.uniform instead.\n",
            "\n",
            "WARNING:tensorflow:From /usr/local/lib/python3.6/dist-packages/keras/backend/tensorflow_backend.py:4267: The name tf.nn.max_pool is deprecated. Please use tf.nn.max_pool2d instead.\n",
            "\n",
            "WARNING:tensorflow:From /usr/local/lib/python3.6/dist-packages/keras/backend/tensorflow_backend.py:148: The name tf.placeholder_with_default is deprecated. Please use tf.compat.v1.placeholder_with_default instead.\n",
            "\n",
            "WARNING:tensorflow:From /usr/local/lib/python3.6/dist-packages/keras/backend/tensorflow_backend.py:3733: calling dropout (from tensorflow.python.ops.nn_ops) with keep_prob is deprecated and will be removed in a future version.\n",
            "Instructions for updating:\n",
            "Please use `rate` instead of `keep_prob`. Rate should be set to `rate = 1 - keep_prob`.\n"
          ],
          "name": "stdout"
        }
      ]
    },
    {
      "cell_type": "markdown",
      "metadata": {
        "id": "dSpHq6fm2zmS",
        "colab_type": "text"
      },
      "source": [
        "**Optimizer**\n",
        "\n",
        "I`ve chosen [Adam](https://machinelearningmastery.com/adam-optimization-algorithm-for-deep-learning/) as our optimizer function.\n",
        "\n",
        "**Loss Function**\n",
        "\n",
        "We are going to use categorical cross-entropy as the loss function.\n",
        "\n",
        "\n",
        "**Metric Function**\n",
        "\n",
        "As the metrics chosen by kaggle to this competition is the accuracy, that`s our pick to the  metric function."
      ]
    },
    {
      "cell_type": "code",
      "metadata": {
        "id": "1LB6KOMs4q1H",
        "colab_type": "code",
        "outputId": "8eee06ee-56d6-4371-83da-0393cb90cb07",
        "colab": {
          "base_uri": "https://localhost:8080/",
          "height": 85
        }
      },
      "source": [
        "model.compile(optimizer='adam',loss='categorical_crossentropy', metrics=['accuracy'])"
      ],
      "execution_count": 0,
      "outputs": [
        {
          "output_type": "stream",
          "text": [
            "WARNING:tensorflow:From /usr/local/lib/python3.6/dist-packages/keras/optimizers.py:793: The name tf.train.Optimizer is deprecated. Please use tf.compat.v1.train.Optimizer instead.\n",
            "\n",
            "WARNING:tensorflow:From /usr/local/lib/python3.6/dist-packages/keras/backend/tensorflow_backend.py:3576: The name tf.log is deprecated. Please use tf.math.log instead.\n",
            "\n"
          ],
          "name": "stdout"
        }
      ]
    },
    {
      "cell_type": "markdown",
      "metadata": {
        "id": "e8rq_UKK27Jt",
        "colab_type": "text"
      },
      "source": [
        "**Number of Epochs**"
      ]
    },
    {
      "cell_type": "code",
      "metadata": {
        "id": "UYZvF-3J62hS",
        "colab_type": "code",
        "colab": {}
      },
      "source": [
        "# defining the number of epochs\n",
        "num_epochs = 5"
      ],
      "execution_count": 0,
      "outputs": []
    },
    {
      "cell_type": "markdown",
      "metadata": {
        "id": "mdjkv25A29VC",
        "colab_type": "text"
      },
      "source": [
        "**Defining the Batch Size**\n",
        "\n",
        "I`m going to use mini batch gradient descent to train my model, as it's one of the most efficient ways to perform deep learning, since the tradeoff of accuracy and speed is optimal.\n",
        "\n",
        "[Introduction to mini batch gradient descent](https://machinelearningmastery.com/gentle-introduction-mini-batch-gradient-descent-configure-batch-size/)\n",
        "\n",
        "According to some tests and studies (see link above), a good default for batch size might be 32, so let`s follow with this:"
      ]
    },
    {
      "cell_type": "code",
      "metadata": {
        "id": "n2FECbwi2_Ey",
        "colab_type": "code",
        "colab": {}
      },
      "source": [
        "# Defining the batch size\n",
        "batch_size_num = 32"
      ],
      "execution_count": 0,
      "outputs": []
    },
    {
      "cell_type": "markdown",
      "metadata": {
        "id": "pGKjULvu37ui",
        "colab_type": "text"
      },
      "source": [
        "**Training**"
      ]
    },
    {
      "cell_type": "code",
      "metadata": {
        "id": "Y6ckIbxS7Y_K",
        "colab_type": "code",
        "outputId": "1c6078dc-16a9-4abb-bbca-6631420d5c7e",
        "colab": {
          "base_uri": "https://localhost:8080/",
          "height": 547
        }
      },
      "source": [
        "trained_model = model.fit(X_train,\n",
        "                 y_train,\n",
        "                 epochs=num_epochs,\n",
        "                 batch_size = batch_size_num,\n",
        "                 validation_data=(X_validation,y_validation),\n",
        "                 verbose=2\n",
        "                 )"
      ],
      "execution_count": 0,
      "outputs": [
        {
          "output_type": "stream",
          "text": [
            "WARNING:tensorflow:From /usr/local/lib/python3.6/dist-packages/tensorflow_core/python/ops/math_grad.py:1424: where (from tensorflow.python.ops.array_ops) is deprecated and will be removed in a future version.\n",
            "Instructions for updating:\n",
            "Use tf.where in 2.0, which has the same broadcast rule as np.where\n",
            "WARNING:tensorflow:From /usr/local/lib/python3.6/dist-packages/keras/backend/tensorflow_backend.py:1033: The name tf.assign_add is deprecated. Please use tf.compat.v1.assign_add instead.\n",
            "\n",
            "WARNING:tensorflow:From /usr/local/lib/python3.6/dist-packages/keras/backend/tensorflow_backend.py:1020: The name tf.assign is deprecated. Please use tf.compat.v1.assign instead.\n",
            "\n",
            "WARNING:tensorflow:From /usr/local/lib/python3.6/dist-packages/keras/backend/tensorflow_backend.py:3005: The name tf.Session is deprecated. Please use tf.compat.v1.Session instead.\n",
            "\n",
            "Train on 37800 samples, validate on 4200 samples\n",
            "Epoch 1/5\n",
            "WARNING:tensorflow:From /usr/local/lib/python3.6/dist-packages/keras/backend/tensorflow_backend.py:190: The name tf.get_default_session is deprecated. Please use tf.compat.v1.get_default_session instead.\n",
            "\n",
            "WARNING:tensorflow:From /usr/local/lib/python3.6/dist-packages/keras/backend/tensorflow_backend.py:197: The name tf.ConfigProto is deprecated. Please use tf.compat.v1.ConfigProto instead.\n",
            "\n",
            "WARNING:tensorflow:From /usr/local/lib/python3.6/dist-packages/keras/backend/tensorflow_backend.py:207: The name tf.global_variables is deprecated. Please use tf.compat.v1.global_variables instead.\n",
            "\n",
            "WARNING:tensorflow:From /usr/local/lib/python3.6/dist-packages/keras/backend/tensorflow_backend.py:216: The name tf.is_variable_initialized is deprecated. Please use tf.compat.v1.is_variable_initialized instead.\n",
            "\n",
            "WARNING:tensorflow:From /usr/local/lib/python3.6/dist-packages/keras/backend/tensorflow_backend.py:223: The name tf.variables_initializer is deprecated. Please use tf.compat.v1.variables_initializer instead.\n",
            "\n",
            " - 93s - loss: 0.2385 - acc: 0.9251 - val_loss: 0.0809 - val_acc: 0.9726\n",
            "Epoch 2/5\n",
            " - 92s - loss: 0.0695 - acc: 0.9787 - val_loss: 0.0552 - val_acc: 0.9838\n",
            "Epoch 3/5\n",
            " - 93s - loss: 0.0511 - acc: 0.9848 - val_loss: 0.0430 - val_acc: 0.9876\n",
            "Epoch 4/5\n",
            " - 93s - loss: 0.0415 - acc: 0.9877 - val_loss: 0.0433 - val_acc: 0.9864\n",
            "Epoch 5/5\n",
            " - 92s - loss: 0.0334 - acc: 0.9898 - val_loss: 0.0454 - val_acc: 0.9886\n"
          ],
          "name": "stdout"
        }
      ]
    },
    {
      "cell_type": "code",
      "metadata": {
        "id": "brbohnzE5H_S",
        "colab_type": "code",
        "colab": {}
      },
      "source": [
        ""
      ],
      "execution_count": 0,
      "outputs": []
    },
    {
      "cell_type": "markdown",
      "metadata": {
        "id": "2TwUabTTNY7G",
        "colab_type": "text"
      },
      "source": [
        "# Step 5 - Evaluating our model\n",
        "\n",
        "Let`s check the final loss and accuracy of the model for both training and validation data  and also it's curves during the training procedure:\n"
      ]
    },
    {
      "cell_type": "code",
      "metadata": {
        "id": "57BN7pnFqKUn",
        "colab_type": "code",
        "outputId": "52228189-fe61-4783-e825-bff42605a587",
        "colab": {
          "base_uri": "https://localhost:8080/",
          "height": 68
        }
      },
      "source": [
        "# Train final loss and accuracy\n",
        "\n",
        "final_loss_train, final_acc_train = model.evaluate(X_train, y_train, verbose = 0)\n",
        "print(\"Train \\n Final Loss: {0:.4f}\\n Final Accuracy: {1:.4f}\".format(final_loss_train,final_acc_train))"
      ],
      "execution_count": 0,
      "outputs": [
        {
          "output_type": "stream",
          "text": [
            "Train \n",
            " Final Loss: 0.0174\n",
            " Final Accuracy: 0.9943\n"
          ],
          "name": "stdout"
        }
      ]
    },
    {
      "cell_type": "code",
      "metadata": {
        "id": "9RE1okM3rhNu",
        "colab_type": "code",
        "outputId": "a9641f29-9b8a-4fce-a6c4-114d3a6a6b11",
        "colab": {
          "base_uri": "https://localhost:8080/",
          "height": 68
        }
      },
      "source": [
        "# Validation final loss and accuracy\n",
        "\n",
        "final_loss_val, final_acc_val = model.evaluate(X_validation, y_validation, verbose = 0)\n",
        "print(\"Validation \\n Final Loss: {0:.4f}\\n Final Accuracy: {1:.4f}\".format(final_loss_val,final_acc_val))"
      ],
      "execution_count": 0,
      "outputs": [
        {
          "output_type": "stream",
          "text": [
            "Validation \n",
            " Final Loss: 0.0454\n",
            " Final Accuracy: 0.9886\n"
          ],
          "name": "stdout"
        }
      ]
    },
    {
      "cell_type": "code",
      "metadata": {
        "id": "Cm7NC6bLN3N5",
        "colab_type": "code",
        "outputId": "aa70e3f9-57a7-4100-829a-8a13f484b17b",
        "colab": {
          "base_uri": "https://localhost:8080/",
          "height": 374
        }
      },
      "source": [
        "# Plot the loss and accuracy curves for training and validation \n",
        "fig, ax = plt.subplots(2,1,figsize = (20,6))\n",
        "ax[0].plot(trained_model.history['loss'], color='b', label=\"Training loss\")\n",
        "ax[0].plot(trained_model.history['val_loss'], color='r', label=\"Validation loss\",axes =ax[0])\n",
        "legend = ax[0].legend(loc='best', shadow=True)\n",
        "\n",
        "ax[1].plot(trained_model.history['acc'], color='b', label=\"Training accuracy\")\n",
        "ax[1].plot(trained_model.history['val_acc'], color='r',label=\"Validation accuracy\")\n",
        "legend = ax[1].legend(loc='best', shadow=True)"
      ],
      "execution_count": 0,
      "outputs": [
        {
          "output_type": "display_data",
          "data": {
            "image/png": "[encoded data removed]",
            "text/plain": [
              "<Figure size 1440x432 with 2 Axes>"
            ]
          },
          "metadata": {
            "tags": []
          }
        }
      ]
    },
    {
      "cell_type": "markdown",
      "metadata": {
        "id": "ZoPfKFnapAN_",
        "colab_type": "text"
      },
      "source": [
        "As we can see on the graphs above, the validation loss crosses the training loss close to the third epoch, and the difference tends to increase, as the training loss keeps decreasing along the epochs.\n",
        "\n",
        "It means that, a higher number of epochs would lead the model to be overfitted to the training data, and then loose the capability of generalizing and perform well with the test data, which is our real goal here."
      ]
    },
    {
      "cell_type": "markdown",
      "metadata": {
        "id": "mqN7xosLuS4w",
        "colab_type": "text"
      },
      "source": [
        "**Confusion Matrix**\n",
        "\n",
        "Let`s plot a confusion matrix to compare the digits predicted to the validation dataset with the true labels and check if there are any digit which is being missed way more than the others and also try to check for any drawbacks on our model:"
      ]
    },
    {
      "cell_type": "code",
      "metadata": {
        "id": "H72rg2oluQOs",
        "colab_type": "code",
        "outputId": "dcc4d320-2240-4905-9515-2e9f89f7a8af",
        "colab": {
          "base_uri": "https://localhost:8080/",
          "height": 599
        }
      },
      "source": [
        "# Function to define the confusion matrix\n",
        "\n",
        "def plot_conf_matrix (cm, classes, normalize=False, title = 'Confusion Matrix',cmap = 'Blues'):\n",
        "  plt.imshow(cm, interpolation = 'nearest', cmap = cmap)\n",
        "  plt.title(title)\n",
        "  plt.colorbar()\n",
        "  tick_marks = np.arange(len(classes))\n",
        "  plt.xticks(tick_marks, classes)\n",
        "  plt.yticks(tick_marks, classes)\n",
        "\n",
        "  if normalize:\n",
        "    cm = cm.astype('float') / cm.sum(axis=1)[:, np.newaxis]\n",
        "  threshold = cm.max() / 2.\n",
        "  for i, j in itertools.product(range(cm.shape[0]), range(cm.shape[1])):\n",
        "    plt.text(j,i, cm[i,j],\n",
        "             horizontalalignment = \"center\",\n",
        "             color=\"white\" if cm[i, j] > threshold else \"black\")\n",
        "  plt.tight_layout()\n",
        "  plt.ylabel('True Label')\n",
        "  plt.xlabel('Predicted Label')\n",
        "\n",
        "# Predict the Values for the validation set\n",
        "y_hat_val = model.predict(X_validation)\n",
        "\n",
        "# Convert % predictions into the most probable label\n",
        "y_hat_val_classes = np.argmax(y_hat_val,axis = 1)\n",
        "\n",
        "# Convert the one-hot encoded validation observations into labels\n",
        "y_validation_classes = np.argmax(y_validation,axis = 1)\n",
        "\n",
        "# Computing the confusion matrix\n",
        "\n",
        "conf_mtx = confusion_matrix(y_validation_classes,y_hat_val_classes)\n",
        "\n",
        "# Plotting the confusion matrix\n",
        "fig, ax =plt.subplots(1, figsize = (20,8))\n",
        "ax = plot_conf_matrix (conf_mtx, classes = range(10))\n"
      ],
      "execution_count": 0,
      "outputs": [
        {
          "output_type": "display_data",
          "data": {
            "image/png": "[encoded data removed]",
            "text/plain": [
              "<Figure size 1440x576 with 2 Axes>"
            ]
          },
          "metadata": {
            "tags": []
          }
        }
      ]
    },
    {
      "cell_type": "markdown",
      "metadata": {
        "id": "Gg0Qfjh63x5j",
        "colab_type": "text"
      },
      "source": [
        "In general, we have got really good results (above 98% accuracy) for all the digits\n",
        "\n",
        "\n",
        "*   *Label 0* - 410 right predictions out of 411 samples - **99.76 %** accuracy\n",
        "*   *Label 1* - 484 right predictions out of 485 samples - **99.78 %** accuracy\n",
        "*   *Label 2* - 400 right predictions out of 403 samples - **99.25 %** accuracy\n",
        "*   *Label 3* - 411 right predictions out of 418 samples - **98.35 %** accuracy\n",
        "*   *Label 4* - 454 right predictions out of 461 samples - **98.48 %** accuracy\n",
        "*   *Label 5* - 365 right predictions out of 372 samples - **98.11 %** accuracy\n",
        "*   *Label 6* - 410 right predictions out of 413 samples - **99.27 %** accuracy\n",
        "*   *Label 7* - 434 right predictions out of 446 samples - **97.31 %** accuracy\n",
        "*   *Label 8* - 380 right predictions out of 382 samples - **99.47 %** accuracy\n",
        "*   *Label 9* - 404 right predictions out of 409 samples - **98.77 %** accuracy\n",
        "\n",
        "\n"
      ]
    },
    {
      "cell_type": "markdown",
      "metadata": {
        "id": "SL-TA1wD9eWc",
        "colab_type": "text"
      },
      "source": [
        "*Label with the highest accuracy*\n",
        "\n",
        "The label with the hights accuracy was *1*, with only one mistaken prediction\n",
        "\n",
        "*Label with the lowest accuracy*\n",
        "\n",
        "And the label with the worst results was *7*, where the majority of the mistaken predictions said it was a *9* instead of a *7*."
      ]
    },
    {
      "cell_type": "markdown",
      "metadata": {
        "id": "FmxQk4xI-Rw9",
        "colab_type": "text"
      },
      "source": [
        "**Most significant errors**\n",
        "\n",
        "Let`s check the top ten most signiicant errors in ours predictions to check which images our model is strugling to identify.\n",
        "\n",
        "To do that, I`m going to check the predictions where the given probability of the true digit are the smallest."
      ]
    },
    {
      "cell_type": "code",
      "metadata": {
        "id": "MLKt8uuL_grC",
        "colab_type": "code",
        "outputId": "b72524b4-f765-4701-86f5-4daf89f32fd0",
        "colab": {
          "base_uri": "https://localhost:8080/",
          "height": 509
        }
      },
      "source": [
        "# Declaring the error variables (Predicted - True)\n",
        "\n",
        "errors = (y_hat_val_classes - y_validation_classes != 0)\n",
        "\n",
        "y_hat_val_classes_errors = y_hat_val_classes[errors]\n",
        "\n",
        "y_hat_val_errors = y_hat_val[errors]\n",
        "\n",
        "y_validation_errors = y_validation_classes[errors]\n",
        "\n",
        "X_validation_errors = X_validation[errors]\n",
        "\n",
        "# Function to plot the images where our model had thhe most significant errors\n",
        "def disp_errors(errors_index,img_errors,pred_errors, obs_errors):\n",
        "    n = 0\n",
        "    nrows = 2\n",
        "    ncols = 5\n",
        "    fig, ax = plt.subplots(nrows,ncols,sharex=True,sharey=True, figsize = (20,8))\n",
        "    for row in range(nrows):\n",
        "        for col in range(ncols):\n",
        "            error = errors_index[n]\n",
        "            ax[row,col].imshow((img_errors[error].reshape((28,28))),cmap=cm.binary)\n",
        "            ax[row,col].set_title(\"Predicted:{} \\n True:{}\".format(pred_errors[error],obs_errors[error]))\n",
        "            n += 1\n",
        "\n",
        "\n",
        "# Probabilities of the wrong predicted numbers\n",
        "Y_pred_errors_prob = np.max(y_hat_val_errors,axis = 1)\n",
        "\n",
        "\n",
        "# Predicted probabilities of the true values in the error set\n",
        "true_prob_errors = np.diagonal(np.take(y_hat_val_errors, y_validation_errors, axis=1))\n",
        "\n",
        "# Difference between the probability of the predicted label and the true label\n",
        "delta_pred_true_errors = Y_pred_errors_prob - true_prob_errors\n",
        "\n",
        "# Sorted list of the delta prob errors\n",
        "sorted_dela_errors = np.argsort(delta_pred_true_errors)\n",
        "\n",
        "# Top 10 most significant errors \n",
        "most_important_errors = sorted_dela_errors[-10:]\n",
        "\n",
        "# Plot\n",
        "disp_errors(most_important_errors, X_validation_errors, y_hat_val_classes_errors, y_validation_errors)"
      ],
      "execution_count": 0,
      "outputs": [
        {
          "output_type": "display_data",
          "data": {
            "image/png": "[encoded data removed]",
            "text/plain": [
              "<Figure size 1440x576 with 10 Axes>"
            ]
          },
          "metadata": {
            "tags": []
          }
        }
      ]
    },
    {
      "cell_type": "markdown",
      "metadata": {
        "id": "hmfm85FfQkb-",
        "colab_type": "text"
      },
      "source": [
        "By looking at these images where our model had the most significant errors, I could say that even a human being could miss a guess at some of them.\n",
        "\n",
        "Hence, I would say that our model is far from making silly mistakes."
      ]
    },
    {
      "cell_type": "markdown",
      "metadata": {
        "id": "CyXvifTfRk5o",
        "colab_type": "text"
      },
      "source": [
        "# Step 6 - Evalutaing the results with the test dataset\n",
        "\n",
        "At this step, let`s use the model to predict the labels using the images of the test dataset and submit our results on the Kaggle website:\n",
        "\n",
        "**Predicting the labels using the test dataset**"
      ]
    },
    {
      "cell_type": "code",
      "metadata": {
        "id": "AciqreHHSJ6I",
        "colab_type": "code",
        "colab": {}
      },
      "source": [
        "# predicting with the test dataset\n",
        "y_hat_test = model.predict(X_test)\n",
        "\n",
        "# getting the index of the hightest probability\n",
        "y_hat_test = np.argmax(y_hat_test, axis = 1)\n",
        "\n",
        "# Creating a PanDas dataframe with the results\n",
        "\n",
        "results = pd.Series(y_hat_test, name = \"Label\")\n",
        "\n",
        "submission = pd.concat([pd.Series(range(1,28001), name = \"ImageId\"),results], axis = 1)\n"
      ],
      "execution_count": 0,
      "outputs": []
    },
    {
      "cell_type": "code",
      "metadata": {
        "id": "QvSRMW5rdLb7",
        "colab_type": "code",
        "outputId": "73e55053-343a-4e1e-c439-0e9d4c837c2e",
        "colab": {
          "base_uri": "https://localhost:8080/",
          "height": 359
        }
      },
      "source": [
        "submission.head(10)"
      ],
      "execution_count": 0,
      "outputs": [
        {
          "output_type": "execute_result",
          "data": {
            "text/html": [
              "<div>\n",
              "<style scoped>\n",
              "    .dataframe tbody tr th:only-of-type {\n",
              "        vertical-align: middle;\n",
              "    }\n",
              "\n",
              "    .dataframe tbody tr th {\n",
              "        vertical-align: top;\n",
              "    }\n",
              "\n",
              "    .dataframe thead th {\n",
              "        text-align: right;\n",
              "    }\n",
              "</style>\n",
              "<table border=\"1\" class=\"dataframe\">\n",
              "  <thead>\n",
              "    <tr style=\"text-align: right;\">\n",
              "      <th></th>\n",
              "      <th>ImageId</th>\n",
              "      <th>Label</th>\n",
              "    </tr>\n",
              "  </thead>\n",
              "  <tbody>\n",
              "    <tr>\n",
              "      <th>0</th>\n",
              "      <td>1</td>\n",
              "      <td>2</td>\n",
              "    </tr>\n",
              "    <tr>\n",
              "      <th>1</th>\n",
              "      <td>2</td>\n",
              "      <td>0</td>\n",
              "    </tr>\n",
              "    <tr>\n",
              "      <th>2</th>\n",
              "      <td>3</td>\n",
              "      <td>9</td>\n",
              "    </tr>\n",
              "    <tr>\n",
              "      <th>3</th>\n",
              "      <td>4</td>\n",
              "      <td>0</td>\n",
              "    </tr>\n",
              "    <tr>\n",
              "      <th>4</th>\n",
              "      <td>5</td>\n",
              "      <td>3</td>\n",
              "    </tr>\n",
              "    <tr>\n",
              "      <th>5</th>\n",
              "      <td>6</td>\n",
              "      <td>7</td>\n",
              "    </tr>\n",
              "    <tr>\n",
              "      <th>6</th>\n",
              "      <td>7</td>\n",
              "      <td>0</td>\n",
              "    </tr>\n",
              "    <tr>\n",
              "      <th>7</th>\n",
              "      <td>8</td>\n",
              "      <td>3</td>\n",
              "    </tr>\n",
              "    <tr>\n",
              "      <th>8</th>\n",
              "      <td>9</td>\n",
              "      <td>0</td>\n",
              "    </tr>\n",
              "    <tr>\n",
              "      <th>9</th>\n",
              "      <td>10</td>\n",
              "      <td>3</td>\n",
              "    </tr>\n",
              "  </tbody>\n",
              "</table>\n",
              "</div>"
            ],
            "text/plain": [
              "   ImageId  Label\n",
              "0        1      2\n",
              "1        2      0\n",
              "2        3      9\n",
              "3        4      0\n",
              "4        5      3\n",
              "5        6      7\n",
              "6        7      0\n",
              "7        8      3\n",
              "8        9      0\n",
              "9       10      3"
            ]
          },
          "metadata": {
            "tags": []
          },
          "execution_count": 127
        }
      ]
    },
    {
      "cell_type": "code",
      "metadata": {
        "id": "glaXBzw3dU2w",
        "colab_type": "code",
        "colab": {}
      },
      "source": [
        "# Saving the .csv submission file\n",
        "submission.to_csv(\"mnist_kaggle_submission.csv\", index = False)"
      ],
      "execution_count": 0,
      "outputs": []
    },
    {
      "cell_type": "markdown",
      "metadata": {
        "id": "pc2tyzzLlQeq",
        "colab_type": "text"
      },
      "source": [
        "**Kaggle Results**\n",
        "\n",
        "I`ve had the following score after my submission:\n",
        "\n",
        "![alt text](https://github.com/rpdieego/Kaggle_DigitRecognizer/blob/master/Kaggle_Results.JPG?raw=true)\n",
        "\n",
        "\n",
        "\n",
        "\n"
      ]
    },
    {
      "cell_type": "markdown",
      "metadata": {
        "id": "1vnmpZlPllHf",
        "colab_type": "text"
      },
      "source": [
        "# Step 7 - Conclusions\n",
        "\n",
        "Summarizing, our model had the following results:\n",
        "\n",
        "*   **Training** : 99.43 % accuracy\n",
        "*   **Validation** : 98.86 % accuracy\n",
        "*   **Test** : 98.66 % accuracy \n",
        "\n",
        "There are not bad results at all. Validation and Test results are pretty similar, and besides the fact of the training accuracy being slightly higher, overfit doesn`t seem to be our issue here, judging by the most significant mistakes our model had at the validation dataset.\n",
        "\n",
        "The predictions that our model haven`t got right were at the most intrigous and ambiguos images, which even an human being could be confused at. For this particular reason, I believe that, in order to achieve better results, it would be necessary to spend some more effort on the image preprocessing, applying techniques like data augmentation (rotating, zooming and shifting the images).\n",
        "\n"
      ]
    }
  ]
}